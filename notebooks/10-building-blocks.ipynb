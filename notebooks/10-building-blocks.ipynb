{
 "cells": [
  {
   "cell_type": "markdown",
   "metadata": {
    "slideshow": {
     "slide_type": "slide"
    }
   },
   "source": [
    "# Building Blocks\n",
    "## The important pieces to analyze (a lot of) data"
   ]
  },
  {
   "cell_type": "markdown",
   "metadata": {
    "slideshow": {
     "slide_type": "slide"
    }
   },
   "source": [
    "# RDD - Resiliant Distributed Dataset\n",
    "Spark's basic data collection is an RDD:\n",
    "* *Resiliant* - Any piece that is lost can be regenerated\n",
    "* *Distributed* - Pieces are scattered across multiple nodes\n",
    "* *Dataset* - A large number of \"items\" either generated from files or by translating other RDDs\n",
    "\n",
    "No restriction that each \"item\" in an RDD have the same elements, somewhat low-level for many uses"
   ]
  },
  {
   "cell_type": "markdown",
   "metadata": {
    "slideshow": {
     "slide_type": "slide"
    }
   },
   "source": [
    "# DataFrame\n",
    "DataFrames are specialized RDDs that organize their data in rows and columns, where every row has the same columns. This is similar to CMS datasets where each event in Data/MC has the same branches.\n",
    "\n",
    "The layout of a DataFrame is more limited than a plain RDD, but this limitation allows Spark's query optimizer to speed up or even elide portions of results."
   ]
  },
  {
   "cell_type": "markdown",
   "metadata": {
    "slideshow": {
     "slide_type": "slide"
    }
   },
   "source": [
    "# Outline\n",
    "The tools are different, but the overall workflow is familiar:\n",
    "\n",
    "1. Import datasets from disk\n",
    "2. Apply transformations\n",
    "  * Perform cuts\n",
    "  * Produce derived values\n",
    "3. Aggregate and report to produce tables/plots\n",
    "\n",
    "Let's first demonstrate the tools and concepts with a small, non-CMS dataset."
   ]
  },
  {
   "cell_type": "markdown",
   "metadata": {
    "slideshow": {
     "slide_type": "skip"
    }
   },
   "source": [
    "For our first example, we will use the US Government's records of all flights in the US during 2015 (found [here](http://stat-computing.org/dataexpo/)). It's a small dataset that Spark is ridiculously overpowered for, but its size lets us experiment instantaneously. "
   ]
  },
  {
   "cell_type": "markdown",
   "metadata": {
    "slideshow": {
     "slide_type": "slide"
    }
   },
   "source": [
    "## Setup\n",
    "Before we do anything with Spark, we must create a `SparkSession` like you did in the pre-exercise."
   ]
  },
  {
   "cell_type": "code",
   "execution_count": 1,
   "metadata": {
    "slideshow": {
     "slide_type": "-"
    }
   },
   "outputs": [],
   "source": [
    "from pyspark.sql import SparkSession\n",
    "from pyspark.sql.types import *\n",
    "spark = SparkSession.builder \\\n",
    "            .appName(\"10-airline-data\") \\\n",
    "            .config(\"spark.jars.packages\", \"org.diana-hep:histogrammar-sparksql_2.11:1.0.4\") \\\n",
    "            .getOrCreate()"
   ]
  },
  {
   "cell_type": "code",
   "execution_count": 2,
   "metadata": {},
   "outputs": [],
   "source": [
    "csvPath = \"hdfs://cmshdfs/tmp/2005.csv.bz2\"\n",
    "airline = spark.read \\\n",
    "            .option(\"header\",\"true\") \\\n",
    "            .option(\"inferSchema\", \"true\") \\\n",
    "            .csv(csvPath) \\\n",
    "            .sort(\"Month\", \"DayofMonth\") \\\n",
    "            .withColumnRenamed(\"UniqueCarrier\", \"Carrier\")"
   ]
  },
  {
   "cell_type": "code",
   "execution_count": 3,
   "metadata": {},
   "outputs": [
    {
     "name": "stdout",
     "output_type": "stream",
     "text": [
      "root\n",
      " |-- Year: integer (nullable = true)\n",
      " |-- Month: integer (nullable = true)\n",
      " |-- DayofMonth: integer (nullable = true)\n",
      " |-- DayOfWeek: integer (nullable = true)\n",
      " |-- DepTime: string (nullable = true)\n",
      " |-- CRSDepTime: integer (nullable = true)\n",
      " |-- ArrTime: string (nullable = true)\n",
      " |-- CRSArrTime: integer (nullable = true)\n",
      " |-- Carrier: string (nullable = true)\n",
      " |-- FlightNum: integer (nullable = true)\n",
      " |-- TailNum: string (nullable = true)\n",
      " |-- ActualElapsedTime: string (nullable = true)\n",
      " |-- CRSElapsedTime: integer (nullable = true)\n",
      " |-- AirTime: string (nullable = true)\n",
      " |-- ArrDelay: string (nullable = true)\n",
      " |-- DepDelay: string (nullable = true)\n",
      " |-- Origin: string (nullable = true)\n",
      " |-- Dest: string (nullable = true)\n",
      " |-- Distance: integer (nullable = true)\n",
      " |-- TaxiIn: integer (nullable = true)\n",
      " |-- TaxiOut: integer (nullable = true)\n",
      " |-- Cancelled: integer (nullable = true)\n",
      " |-- CancellationCode: string (nullable = true)\n",
      " |-- Diverted: integer (nullable = true)\n",
      " |-- CarrierDelay: integer (nullable = true)\n",
      " |-- WeatherDelay: integer (nullable = true)\n",
      " |-- NASDelay: integer (nullable = true)\n",
      " |-- SecurityDelay: integer (nullable = true)\n",
      " |-- LateAircraftDelay: integer (nullable = true)\n",
      "\n"
     ]
    }
   ],
   "source": [
    "airline.printSchema()"
   ]
  },
  {
   "cell_type": "code",
   "execution_count": 4,
   "metadata": {},
   "outputs": [],
   "source": [
    "airline = airline.withColumn(\"DepTime\", airline[\"DepTime\"].cast(IntegerType()))\\\n",
    "                    .withColumn(\"ArrTime\", airline[\"ArrTime\"].cast(IntegerType()))\\\n",
    "                    .withColumn(\"DepDelay\", airline[\"DepDelay\"].cast(IntegerType()))\\\n",
    "                    .withColumn(\"ArrDelay\", airline[\"ArrDelay\"].cast(IntegerType()))"
   ]
  },
  {
   "cell_type": "code",
   "execution_count": 5,
   "metadata": {},
   "outputs": [
    {
     "name": "stdout",
     "output_type": "stream",
     "text": [
      "root\n",
      " |-- Year: integer (nullable = true)\n",
      " |-- Month: integer (nullable = true)\n",
      " |-- DayofMonth: integer (nullable = true)\n",
      " |-- DayOfWeek: integer (nullable = true)\n",
      " |-- DepTime: integer (nullable = true)\n",
      " |-- CRSDepTime: integer (nullable = true)\n",
      " |-- ArrTime: integer (nullable = true)\n",
      " |-- CRSArrTime: integer (nullable = true)\n",
      " |-- Carrier: string (nullable = true)\n",
      " |-- FlightNum: integer (nullable = true)\n",
      " |-- TailNum: string (nullable = true)\n",
      " |-- ActualElapsedTime: string (nullable = true)\n",
      " |-- CRSElapsedTime: integer (nullable = true)\n",
      " |-- AirTime: string (nullable = true)\n",
      " |-- ArrDelay: integer (nullable = true)\n",
      " |-- DepDelay: integer (nullable = true)\n",
      " |-- Origin: string (nullable = true)\n",
      " |-- Dest: string (nullable = true)\n",
      " |-- Distance: integer (nullable = true)\n",
      " |-- TaxiIn: integer (nullable = true)\n",
      " |-- TaxiOut: integer (nullable = true)\n",
      " |-- Cancelled: integer (nullable = true)\n",
      " |-- CancellationCode: string (nullable = true)\n",
      " |-- Diverted: integer (nullable = true)\n",
      " |-- CarrierDelay: integer (nullable = true)\n",
      " |-- WeatherDelay: integer (nullable = true)\n",
      " |-- NASDelay: integer (nullable = true)\n",
      " |-- SecurityDelay: integer (nullable = true)\n",
      " |-- LateAircraftDelay: integer (nullable = true)\n",
      "\n"
     ]
    }
   ],
   "source": [
    "airline.printSchema()"
   ]
  },
  {
   "cell_type": "code",
   "execution_count": 6,
   "metadata": {},
   "outputs": [
    {
     "data": {
      "text/plain": [
       "[Row(Year=2005, Month=1, DayofMonth=1, DayOfWeek=6, DepTime=1704, CRSDepTime=1715, ArrTime=1919, CRSArrTime=1915, Carrier='UA', FlightNum=543, TailNum='N203UA', ActualElapsedTime='195', CRSElapsedTime=180, AirTime='144', ArrDelay=4, DepDelay=-11, Origin='BOS', Dest='ORD', Distance=867, TaxiIn=13, TaxiOut=38, Cancelled=0, CancellationCode=None, Diverted=0, CarrierDelay=0, WeatherDelay=0, NASDelay=0, SecurityDelay=0, LateAircraftDelay=0)]"
      ]
     },
     "execution_count": 6,
     "metadata": {},
     "output_type": "execute_result"
    }
   ],
   "source": [
    "airline.take(1)"
   ]
  },
  {
   "cell_type": "code",
   "execution_count": 7,
   "metadata": {},
   "outputs": [
    {
     "name": "stdout",
     "output_type": "stream",
     "text": [
      "+----+-----+----------+---------+-------+----------+-------+----------+-------+---------+-------+-----------------+--------------+-------+--------+--------+------+----+--------+------+-------+---------+----------------+--------+------------+------------+--------+-------------+-----------------+\n",
      "|Year|Month|DayofMonth|DayOfWeek|DepTime|CRSDepTime|ArrTime|CRSArrTime|Carrier|FlightNum|TailNum|ActualElapsedTime|CRSElapsedTime|AirTime|ArrDelay|DepDelay|Origin|Dest|Distance|TaxiIn|TaxiOut|Cancelled|CancellationCode|Diverted|CarrierDelay|WeatherDelay|NASDelay|SecurityDelay|LateAircraftDelay|\n",
      "+----+-----+----------+---------+-------+----------+-------+----------+-------+---------+-------+-----------------+--------------+-------+--------+--------+------+----+--------+------+-------+---------+----------------+--------+------------+------------+--------+-------------+-----------------+\n",
      "|2005|    1|         1|        6|   1600|      1605|   1747|      1800|     XE|     2450| N12567|              107|           115|     89|     -13|      -5|   EWR| DAY|     533|     3|     15|        0|            null|       0|           0|           0|       0|            0|                0|\n",
      "+----+-----+----------+---------+-------+----------+-------+----------+-------+---------+-------+-----------------+--------------+-------+--------+--------+------+----+--------+------+-------+---------+----------------+--------+------------+------------+--------+-------------+-----------------+\n",
      "only showing top 1 row\n",
      "\n"
     ]
    }
   ],
   "source": [
    "airline.show(1)"
   ]
  },
  {
   "cell_type": "code",
   "execution_count": 8,
   "metadata": {},
   "outputs": [
    {
     "name": "stdout",
     "output_type": "stream",
     "text": [
      "+----+-----+----------+---------+-------+----------+-------+----------+-------+---------+-------+-----------------+--------------+-------+--------+--------+------+----+--------+------+-------+---------+----------------+--------+-----------------+\n",
      "|Year|Month|DayofMonth|DayOfWeek|DepTime|CRSDepTime|ArrTime|CRSArrTime|Carrier|FlightNum|TailNum|ActualElapsedTime|CRSElapsedTime|AirTime|ArrDelay|DepDelay|Origin|Dest|Distance|TaxiIn|TaxiOut|Cancelled|CancellationCode|Diverted|LateAircraftDelay|\n",
      "+----+-----+----------+---------+-------+----------+-------+----------+-------+---------+-------+-----------------+--------------+-------+--------+--------+------+----+--------+------+-------+---------+----------------+--------+-----------------+\n",
      "|2005|    1|         1|        6|   1600|      1605|   1747|      1800|     XE|     2450| N12567|              107|           115|     89|     -13|      -5|   EWR| DAY|     533|     3|     15|        0|            null|       0|                0|\n",
      "+----+-----+----------+---------+-------+----------+-------+----------+-------+---------+-------+-----------------+--------------+-------+--------+--------+------+----+--------+------+-------+---------+----------------+--------+-----------------+\n",
      "only showing top 1 row\n",
      "\n"
     ]
    }
   ],
   "source": [
    "# https://spark.apache.org/docs/2.2.0/api/python/pyspark.sql.html?highlight=cache#pyspark.sql.DataFrame.drop\n",
    "airline = airline.drop(\"CarrierDelay\", \"WeatherDelay\", \"NASDelay\", \"SecurityDelay\")\n",
    "airline.show(1)"
   ]
  },
  {
   "cell_type": "code",
   "execution_count": 9,
   "metadata": {},
   "outputs": [],
   "source": [
    "trimmedAirline = airline.select(\"Month\", \"DayOfMonth\", \"DayOfWeek\",\n",
    "                                \"DepTime\", \"ArrDelay\", \"DepDelay\",\n",
    "                                \"TaxiIn\", \"TaxiOut\", \"Origin\",\n",
    "                                \"Dest\", \"Distance\", \"Carrier\",\n",
    "                                \"FlightNum\", \"Cancelled\")"
   ]
  },
  {
   "cell_type": "code",
   "execution_count": 10,
   "metadata": {},
   "outputs": [
    {
     "name": "stdout",
     "output_type": "stream",
     "text": [
      "+-----+----------+---------+-------+--------+--------+------+-------+------+----+--------+-------+---------+---------+\n",
      "|Month|DayOfMonth|DayOfWeek|DepTime|ArrDelay|DepDelay|TaxiIn|TaxiOut|Origin|Dest|Distance|Carrier|FlightNum|Cancelled|\n",
      "+-----+----------+---------+-------+--------+--------+------+-------+------+----+--------+-------+---------+---------+\n",
      "|    1|         1|        6|   1600|     -13|      -5|     3|     15|   EWR| DAY|     533|     XE|     2450|        0|\n",
      "|    1|         1|        6|   1627|      -9|      -3|     5|     26|   IAH| CLT|     913|     XE|     2810|        0|\n",
      "|    1|         1|        6|    711|       5|      11|     5|     16|   ATL| IAH|     689|     XE|     2940|        0|\n",
      "|    1|         1|        6|   1206|       2|      -4|     7|     19|   IND| IAH|     845|     XE|     2867|        0|\n",
      "|    1|         1|        6|    918|      -7|      -7|     4|     22|   CLE| MSY|     917|     XE|     2432|        0|\n",
      "+-----+----------+---------+-------+--------+--------+------+-------+------+----+--------+-------+---------+---------+\n",
      "only showing top 5 rows\n",
      "\n"
     ]
    }
   ],
   "source": [
    "trimmedAirline.show(5)"
   ]
  },
  {
   "cell_type": "code",
   "execution_count": 11,
   "metadata": {},
   "outputs": [
    {
     "name": "stdout",
     "output_type": "stream",
     "text": [
      "+-----+----------+---------+-------+--------+--------+------+-------+------+----+--------+-------+---------+---------+\n",
      "|Month|DayOfMonth|DayOfWeek|DepTime|ArrDelay|DepDelay|TaxiIn|TaxiOut|Origin|Dest|Distance|Carrier|FlightNum|Cancelled|\n",
      "+-----+----------+---------+-------+--------+--------+------+-------+------+----+--------+-------+---------+---------+\n",
      "|    1|         1|        6|   1600|     -13|      -5|     3|     15|   EWR| DAY|     533|     XE|     2450|        0|\n",
      "|    1|         1|        6|   1627|      -9|      -3|     5|     26|   IAH| CLT|     913|     XE|     2810|        0|\n",
      "|    1|         1|        6|    711|       5|      11|     5|     16|   ATL| IAH|     689|     XE|     2940|        0|\n",
      "|    1|         1|        6|   1206|       2|      -4|     7|     19|   IND| IAH|     845|     XE|     2867|        0|\n",
      "|    1|         1|        6|    918|      -7|      -7|     4|     22|   CLE| MSY|     917|     XE|     2432|        0|\n",
      "+-----+----------+---------+-------+--------+--------+------+-------+------+----+--------+-------+---------+---------+\n",
      "only showing top 5 rows\n",
      "\n"
     ]
    }
   ],
   "source": [
    "# Do some filtering\n",
    "trimmedAirline.where(trimmedAirline.Carrier != \"UA\").show(5)"
   ]
  },
  {
   "cell_type": "markdown",
   "metadata": {},
   "source": [
    "# What about a more complicated expression?\n",
    "```python\n",
    "trimmedAirline.where(trimmedAirline.Month == 1 and trimmedAirline.DayOfMonth == 8).show(5)\n",
    "```"
   ]
  },
  {
   "cell_type": "code",
   "execution_count": 12,
   "metadata": {},
   "outputs": [
    {
     "ename": "ValueError",
     "evalue": "Cannot convert column into bool: please use '&' for 'and', '|' for 'or', '~' for 'not' when building DataFrame boolean expressions.",
     "output_type": "error",
     "traceback": [
      "\u001b[0;31m---------------------------------------------------------------------------\u001b[0m",
      "\u001b[0;31mValueError\u001b[0m                                Traceback (most recent call last)",
      "\u001b[0;32m<ipython-input-12-326197ccec68>\u001b[0m in \u001b[0;36m<module>\u001b[0;34m\u001b[0m\n\u001b[0;32m----> 1\u001b[0;31m \u001b[0mtrimmedAirline\u001b[0m\u001b[0;34m.\u001b[0m\u001b[0mwhere\u001b[0m\u001b[0;34m(\u001b[0m\u001b[0mtrimmedAirline\u001b[0m\u001b[0;34m.\u001b[0m\u001b[0mMonth\u001b[0m \u001b[0;34m==\u001b[0m \u001b[0;36m1\u001b[0m \u001b[0;32mand\u001b[0m \u001b[0mtrimmedAirline\u001b[0m\u001b[0;34m.\u001b[0m\u001b[0mDayOfMonth\u001b[0m \u001b[0;34m==\u001b[0m \u001b[0;36m8\u001b[0m\u001b[0;34m)\u001b[0m\u001b[0;34m.\u001b[0m\u001b[0mshow\u001b[0m\u001b[0;34m(\u001b[0m\u001b[0;36m5\u001b[0m\u001b[0;34m)\u001b[0m\u001b[0;34m\u001b[0m\u001b[0;34m\u001b[0m\u001b[0m\n\u001b[0m",
      "\u001b[0;32m/usr/local/spark/python/pyspark/sql/column.py\u001b[0m in \u001b[0;36m__nonzero__\u001b[0;34m(self)\u001b[0m\n\u001b[1;32m    633\u001b[0m \u001b[0;34m\u001b[0m\u001b[0m\n\u001b[1;32m    634\u001b[0m     \u001b[0;32mdef\u001b[0m \u001b[0m__nonzero__\u001b[0m\u001b[0;34m(\u001b[0m\u001b[0mself\u001b[0m\u001b[0;34m)\u001b[0m\u001b[0;34m:\u001b[0m\u001b[0;34m\u001b[0m\u001b[0;34m\u001b[0m\u001b[0m\n\u001b[0;32m--> 635\u001b[0;31m         raise ValueError(\"Cannot convert column into bool: please use '&' for 'and', '|' for 'or', \"\n\u001b[0m\u001b[1;32m    636\u001b[0m                          \"'~' for 'not' when building DataFrame boolean expressions.\")\n\u001b[1;32m    637\u001b[0m     \u001b[0m__bool__\u001b[0m \u001b[0;34m=\u001b[0m \u001b[0m__nonzero__\u001b[0m\u001b[0;34m\u001b[0m\u001b[0;34m\u001b[0m\u001b[0m\n",
      "\u001b[0;31mValueError\u001b[0m: Cannot convert column into bool: please use '&' for 'and', '|' for 'or', '~' for 'not' when building DataFrame boolean expressions."
     ]
    }
   ],
   "source": [
    "trimmedAirline.where(trimmedAirline.Month == 1 and trimmedAirline.DayOfMonth == 8).show(5)"
   ]
  },
  {
   "cell_type": "markdown",
   "metadata": {},
   "source": [
    "uh oh..\n",
    "```\n",
    "ValueError: Cannot convert column into bool: please use '&' for 'and'\n",
    "```\n",
    "Let's try that....\n",
    "```python\n",
    "trimmedAirline.where(trimmedAirline.Month == 1 & trimmedAirline.DayOfMonth == 8).show(5)\n",
    "```"
   ]
  },
  {
   "cell_type": "code",
   "execution_count": 13,
   "metadata": {},
   "outputs": [
    {
     "ename": "Py4JError",
     "evalue": "An error occurred while calling o136.and. Trace:\npy4j.Py4JException: Method and([class java.lang.Integer]) does not exist\n\tat py4j.reflection.ReflectionEngine.getMethod(ReflectionEngine.java:318)\n\tat py4j.reflection.ReflectionEngine.getMethod(ReflectionEngine.java:326)\n\tat py4j.Gateway.invoke(Gateway.java:274)\n\tat py4j.commands.AbstractCommand.invokeMethod(AbstractCommand.java:132)\n\tat py4j.commands.CallCommand.execute(CallCommand.java:79)\n\tat py4j.GatewayConnection.run(GatewayConnection.java:214)\n\tat java.lang.Thread.run(Thread.java:748)\n\n",
     "output_type": "error",
     "traceback": [
      "\u001b[0;31m---------------------------------------------------------------------------\u001b[0m",
      "\u001b[0;31mPy4JError\u001b[0m                                 Traceback (most recent call last)",
      "\u001b[0;32m<ipython-input-13-0656a04a64a6>\u001b[0m in \u001b[0;36m<module>\u001b[0;34m\u001b[0m\n\u001b[0;32m----> 1\u001b[0;31m \u001b[0mtrimmedAirline\u001b[0m\u001b[0;34m.\u001b[0m\u001b[0mwhere\u001b[0m\u001b[0;34m(\u001b[0m\u001b[0mtrimmedAirline\u001b[0m\u001b[0;34m.\u001b[0m\u001b[0mMonth\u001b[0m \u001b[0;34m==\u001b[0m \u001b[0;36m1\u001b[0m \u001b[0;34m&\u001b[0m \u001b[0mtrimmedAirline\u001b[0m\u001b[0;34m.\u001b[0m\u001b[0mDayOfMonth\u001b[0m \u001b[0;34m==\u001b[0m \u001b[0;36m8\u001b[0m\u001b[0;34m)\u001b[0m\u001b[0;34m.\u001b[0m\u001b[0mshow\u001b[0m\u001b[0;34m(\u001b[0m\u001b[0;36m5\u001b[0m\u001b[0;34m)\u001b[0m\u001b[0;34m\u001b[0m\u001b[0;34m\u001b[0m\u001b[0m\n\u001b[0m",
      "\u001b[0;32m/usr/local/spark/python/pyspark/sql/column.py\u001b[0m in \u001b[0;36m_\u001b[0;34m(self, other)\u001b[0m\n\u001b[1;32m    114\u001b[0m     \u001b[0;32mdef\u001b[0m \u001b[0m_\u001b[0m\u001b[0;34m(\u001b[0m\u001b[0mself\u001b[0m\u001b[0;34m,\u001b[0m \u001b[0mother\u001b[0m\u001b[0;34m)\u001b[0m\u001b[0;34m:\u001b[0m\u001b[0;34m\u001b[0m\u001b[0;34m\u001b[0m\u001b[0m\n\u001b[1;32m    115\u001b[0m         \u001b[0mjc\u001b[0m \u001b[0;34m=\u001b[0m \u001b[0mother\u001b[0m\u001b[0;34m.\u001b[0m\u001b[0m_jc\u001b[0m \u001b[0;32mif\u001b[0m \u001b[0misinstance\u001b[0m\u001b[0;34m(\u001b[0m\u001b[0mother\u001b[0m\u001b[0;34m,\u001b[0m \u001b[0mColumn\u001b[0m\u001b[0;34m)\u001b[0m \u001b[0;32melse\u001b[0m \u001b[0mother\u001b[0m\u001b[0;34m\u001b[0m\u001b[0;34m\u001b[0m\u001b[0m\n\u001b[0;32m--> 116\u001b[0;31m         \u001b[0mnjc\u001b[0m \u001b[0;34m=\u001b[0m \u001b[0mgetattr\u001b[0m\u001b[0;34m(\u001b[0m\u001b[0mself\u001b[0m\u001b[0;34m.\u001b[0m\u001b[0m_jc\u001b[0m\u001b[0;34m,\u001b[0m \u001b[0mname\u001b[0m\u001b[0;34m)\u001b[0m\u001b[0;34m(\u001b[0m\u001b[0mjc\u001b[0m\u001b[0;34m)\u001b[0m\u001b[0;34m\u001b[0m\u001b[0;34m\u001b[0m\u001b[0m\n\u001b[0m\u001b[1;32m    117\u001b[0m         \u001b[0;32mreturn\u001b[0m \u001b[0mColumn\u001b[0m\u001b[0;34m(\u001b[0m\u001b[0mnjc\u001b[0m\u001b[0;34m)\u001b[0m\u001b[0;34m\u001b[0m\u001b[0;34m\u001b[0m\u001b[0m\n\u001b[1;32m    118\u001b[0m     \u001b[0m_\u001b[0m\u001b[0;34m.\u001b[0m\u001b[0m__doc__\u001b[0m \u001b[0;34m=\u001b[0m \u001b[0mdoc\u001b[0m\u001b[0;34m\u001b[0m\u001b[0;34m\u001b[0m\u001b[0m\n",
      "\u001b[0;32m/usr/local/spark/python/lib/py4j-0.10.6-src.zip/py4j/java_gateway.py\u001b[0m in \u001b[0;36m__call__\u001b[0;34m(self, *args)\u001b[0m\n\u001b[1;32m   1158\u001b[0m         \u001b[0manswer\u001b[0m \u001b[0;34m=\u001b[0m \u001b[0mself\u001b[0m\u001b[0;34m.\u001b[0m\u001b[0mgateway_client\u001b[0m\u001b[0;34m.\u001b[0m\u001b[0msend_command\u001b[0m\u001b[0;34m(\u001b[0m\u001b[0mcommand\u001b[0m\u001b[0;34m)\u001b[0m\u001b[0;34m\u001b[0m\u001b[0;34m\u001b[0m\u001b[0m\n\u001b[1;32m   1159\u001b[0m         return_value = get_return_value(\n\u001b[0;32m-> 1160\u001b[0;31m             answer, self.gateway_client, self.target_id, self.name)\n\u001b[0m\u001b[1;32m   1161\u001b[0m \u001b[0;34m\u001b[0m\u001b[0m\n\u001b[1;32m   1162\u001b[0m         \u001b[0;32mfor\u001b[0m \u001b[0mtemp_arg\u001b[0m \u001b[0;32min\u001b[0m \u001b[0mtemp_args\u001b[0m\u001b[0;34m:\u001b[0m\u001b[0;34m\u001b[0m\u001b[0;34m\u001b[0m\u001b[0m\n",
      "\u001b[0;32m/usr/local/spark/python/pyspark/sql/utils.py\u001b[0m in \u001b[0;36mdeco\u001b[0;34m(*a, **kw)\u001b[0m\n\u001b[1;32m     61\u001b[0m     \u001b[0;32mdef\u001b[0m \u001b[0mdeco\u001b[0m\u001b[0;34m(\u001b[0m\u001b[0;34m*\u001b[0m\u001b[0ma\u001b[0m\u001b[0;34m,\u001b[0m \u001b[0;34m**\u001b[0m\u001b[0mkw\u001b[0m\u001b[0;34m)\u001b[0m\u001b[0;34m:\u001b[0m\u001b[0;34m\u001b[0m\u001b[0;34m\u001b[0m\u001b[0m\n\u001b[1;32m     62\u001b[0m         \u001b[0;32mtry\u001b[0m\u001b[0;34m:\u001b[0m\u001b[0;34m\u001b[0m\u001b[0;34m\u001b[0m\u001b[0m\n\u001b[0;32m---> 63\u001b[0;31m             \u001b[0;32mreturn\u001b[0m \u001b[0mf\u001b[0m\u001b[0;34m(\u001b[0m\u001b[0;34m*\u001b[0m\u001b[0ma\u001b[0m\u001b[0;34m,\u001b[0m \u001b[0;34m**\u001b[0m\u001b[0mkw\u001b[0m\u001b[0;34m)\u001b[0m\u001b[0;34m\u001b[0m\u001b[0;34m\u001b[0m\u001b[0m\n\u001b[0m\u001b[1;32m     64\u001b[0m         \u001b[0;32mexcept\u001b[0m \u001b[0mpy4j\u001b[0m\u001b[0;34m.\u001b[0m\u001b[0mprotocol\u001b[0m\u001b[0;34m.\u001b[0m\u001b[0mPy4JJavaError\u001b[0m \u001b[0;32mas\u001b[0m \u001b[0me\u001b[0m\u001b[0;34m:\u001b[0m\u001b[0;34m\u001b[0m\u001b[0;34m\u001b[0m\u001b[0m\n\u001b[1;32m     65\u001b[0m             \u001b[0ms\u001b[0m \u001b[0;34m=\u001b[0m \u001b[0me\u001b[0m\u001b[0;34m.\u001b[0m\u001b[0mjava_exception\u001b[0m\u001b[0;34m.\u001b[0m\u001b[0mtoString\u001b[0m\u001b[0;34m(\u001b[0m\u001b[0;34m)\u001b[0m\u001b[0;34m\u001b[0m\u001b[0;34m\u001b[0m\u001b[0m\n",
      "\u001b[0;32m/usr/local/spark/python/lib/py4j-0.10.6-src.zip/py4j/protocol.py\u001b[0m in \u001b[0;36mget_return_value\u001b[0;34m(answer, gateway_client, target_id, name)\u001b[0m\n\u001b[1;32m    322\u001b[0m                 raise Py4JError(\n\u001b[1;32m    323\u001b[0m                     \u001b[0;34m\"An error occurred while calling {0}{1}{2}. Trace:\\n{3}\\n\"\u001b[0m\u001b[0;34m.\u001b[0m\u001b[0;34m\u001b[0m\u001b[0;34m\u001b[0m\u001b[0m\n\u001b[0;32m--> 324\u001b[0;31m                     format(target_id, \".\", name, value))\n\u001b[0m\u001b[1;32m    325\u001b[0m         \u001b[0;32melse\u001b[0m\u001b[0;34m:\u001b[0m\u001b[0;34m\u001b[0m\u001b[0;34m\u001b[0m\u001b[0m\n\u001b[1;32m    326\u001b[0m             raise Py4JError(\n",
      "\u001b[0;31mPy4JError\u001b[0m: An error occurred while calling o136.and. Trace:\npy4j.Py4JException: Method and([class java.lang.Integer]) does not exist\n\tat py4j.reflection.ReflectionEngine.getMethod(ReflectionEngine.java:318)\n\tat py4j.reflection.ReflectionEngine.getMethod(ReflectionEngine.java:326)\n\tat py4j.Gateway.invoke(Gateway.java:274)\n\tat py4j.commands.AbstractCommand.invokeMethod(AbstractCommand.java:132)\n\tat py4j.commands.CallCommand.execute(CallCommand.java:79)\n\tat py4j.GatewayConnection.run(GatewayConnection.java:214)\n\tat java.lang.Thread.run(Thread.java:748)\n\n"
     ]
    }
   ],
   "source": [
    "trimmedAirline.where(trimmedAirline.Month == 1 & trimmedAirline.DayOfMonth == 8).show(5)"
   ]
  },
  {
   "cell_type": "markdown",
   "metadata": {},
   "source": [
    "The previous cell complains:\n",
    "```\n",
    "Method and([class java.lang.Integer]) does not exist\n",
    "```\n",
    "The \"&\" operator has weird operator precidence, so the previous line:\n",
    "```python\n",
    "trimmedAirline.where(trimmedAirline.Month == 1 & trimmedAirline.DayOfMonth == 8).show(5)\n",
    "```\n",
    "Is interpreted as\n",
    "```python\n",
    "trimmedAirline.where(trimmedAirline.Month == (1 & trimmedAirline.DayOfMonth) == 8).show(5)\n",
    "```\n",
    "Add explicit parenthesis to force what we really mean:\n",
    "```python\n",
    "trimmedAirline.where((trimmedAirline.Month == 1) & (trimmedAirline.DayOfMonth == 8)).show(5)\n",
    "```"
   ]
  },
  {
   "cell_type": "code",
   "execution_count": 14,
   "metadata": {},
   "outputs": [
    {
     "name": "stdout",
     "output_type": "stream",
     "text": [
      "+-----+----------+---------+-------+--------+--------+------+-------+------+----+--------+-------+---------+---------+\n",
      "|Month|DayOfMonth|DayOfWeek|DepTime|ArrDelay|DepDelay|TaxiIn|TaxiOut|Origin|Dest|Distance|Carrier|FlightNum|Cancelled|\n",
      "+-----+----------+---------+-------+--------+--------+------+-------+------+----+--------+-------+---------+---------+\n",
      "|    1|         8|        6|   1453|      20|      23|    10|     20|   EWR| DTW|     487|     CO|      877|        0|\n",
      "|    1|         8|        6|   1528|      12|       8|     5|     34|   EWR| MCO|     938|     CO|      392|        0|\n",
      "|    1|         8|        6|   1807|      16|      -3|     3|     29|   CLE| MCO|     895|     CO|     1513|        0|\n",
      "|    1|         8|        6|   1915|      43|      55|     5|     13|   IAH| MCO|     853|     CO|     1286|        0|\n",
      "|    1|         8|        6|   1222|       1|      17|     8|     11|   TPA| EWR|     998|     CO|      858|        0|\n",
      "+-----+----------+---------+-------+--------+--------+------+-------+------+----+--------+-------+---------+---------+\n",
      "only showing top 5 rows\n",
      "\n"
     ]
    }
   ],
   "source": [
    "trimmedAirline.where((trimmedAirline.Month == 1) & (trimmedAirline.DayOfMonth == 8)).show(5)"
   ]
  },
  {
   "cell_type": "markdown",
   "metadata": {},
   "source": [
    "# \"SQL string\" format\n",
    "This is a lot easier for complicated expressions\n",
    "```python\n",
    "trimmedAirline.where(\"Month == 1 and DayOfMonth == 8\").show(5)\n",
    "```"
   ]
  },
  {
   "cell_type": "code",
   "execution_count": 15,
   "metadata": {},
   "outputs": [
    {
     "name": "stdout",
     "output_type": "stream",
     "text": [
      "+-----+----------+---------+-------+--------+--------+------+-------+------+----+--------+-------+---------+---------+\n",
      "|Month|DayOfMonth|DayOfWeek|DepTime|ArrDelay|DepDelay|TaxiIn|TaxiOut|Origin|Dest|Distance|Carrier|FlightNum|Cancelled|\n",
      "+-----+----------+---------+-------+--------+--------+------+-------+------+----+--------+-------+---------+---------+\n",
      "|    1|         8|        6|    703|       3|      -2|    24|      8|   CMH| EWR|     462|     XE|     2858|        0|\n",
      "|    1|         8|        6|   1001|     -29|      -9|     7|     12|   BNA| EWR|     748|     XE|     2530|        0|\n",
      "|    1|         8|        6|   1433|     -11|      -2|     3|     19|   EWR| PVD|     160|     XE|     2956|        0|\n",
      "|    1|         8|        6|   1422|      12|      -8|     7|     16|   JAX| EWR|     821|     XE|     3208|        0|\n",
      "|    1|         8|        6|    616|      23|      -4|     6|     40|   BNA| IAH|     657|     XE|     2831|        0|\n",
      "+-----+----------+---------+-------+--------+--------+------+-------+------+----+--------+-------+---------+---------+\n",
      "only showing top 5 rows\n",
      "\n"
     ]
    }
   ],
   "source": [
    "trimmedAirline.where(\"Month == 1 and DayOfMonth == 8\").show(5)"
   ]
  },
  {
   "cell_type": "code",
   "execution_count": 16,
   "metadata": {},
   "outputs": [
    {
     "data": {
      "text/plain": [
       "621"
      ]
     },
     "execution_count": 16,
     "metadata": {},
     "output_type": "execute_result"
    }
   ],
   "source": [
    "trimmedAirline.where(\"Month == 1 and Origin == 'ORD' and Dest == 'EWR'\").count()"
   ]
  },
  {
   "cell_type": "code",
   "execution_count": 17,
   "metadata": {},
   "outputs": [
    {
     "data": {
      "text/plain": [
       "17"
      ]
     },
     "execution_count": 17,
     "metadata": {},
     "output_type": "execute_result"
    }
   ],
   "source": [
    "trimmedAirline.where(\"Month == 1 and DayOfMonth == 9 and Origin == 'ORD' and Dest == 'EWR'\").count()"
   ]
  },
  {
   "cell_type": "code",
   "execution_count": 18,
   "metadata": {},
   "outputs": [
    {
     "data": {
      "text/plain": [
       "37"
      ]
     },
     "execution_count": 18,
     "metadata": {},
     "output_type": "execute_result"
    }
   ],
   "source": [
    "trimmedAirline.where(\"\"\"Month == 1 AND DayOfMonth == 9 AND \n",
    "                        ((Origin == 'ORD' AND Dest == 'EWR') OR\n",
    "                         (Origin == 'EWR' AND Dest == 'ORD'))\"\"\").count()"
   ]
  },
  {
   "cell_type": "markdown",
   "metadata": {},
   "source": [
    "# Rename columns"
   ]
  },
  {
   "cell_type": "code",
   "execution_count": 19,
   "metadata": {},
   "outputs": [
    {
     "name": "stdout",
     "output_type": "stream",
     "text": [
      "+-----+---+---------+-------+--------+--------+------+-------+------+----+--------+-------+---------+---------+\n",
      "|Month|Day|DayOfWeek|DepTime|ArrDelay|DepDelay|TaxiIn|TaxiOut|Origin|Dest|Distance|Carrier|FlightNum|Cancelled|\n",
      "+-----+---+---------+-------+--------+--------+------+-------+------+----+--------+-------+---------+---------+\n",
      "|    1|  1|        6|   1317|       3|      10|    13|     23|   IAH| ORD|     925|     CO|      146|        0|\n",
      "|    1|  1|        6|   1032|     -10|      -1|     5|     16|   IAH| DEN|     861|     CO|      499|        0|\n",
      "|    1|  1|        6|   1142|      -9|      -2|     8|     13|   DTW| IAH|    1076|     CO|     1589|        0|\n",
      "|    1|  1|        6|   1213|      -7|      -2|     6|     12|   MDW| EWR|     711|     CO|     1145|        0|\n",
      "|    1|  1|        6|   1202|      10|       2|     7|     25|   EWR| SEA|    2401|     CO|     1281|        0|\n",
      "|    1|  1|        6|   1223|       4|      -2|     9|     25|   SAN| IAH|    1303|     CO|      374|        0|\n",
      "|    1|  1|        6|   1232|      -7|       2|     6|     19|   EWR| TPA|     998|     CO|      218|        0|\n",
      "|    1|  1|        6|   1608|       1|       3|     5|     19|   IAH| FLL|     965|     CO|     1648|        0|\n",
      "|    1|  1|        6|   1133|      -6|      -5|    10|     12|   DEN| IAH|     861|     CO|       34|        0|\n",
      "|    1|  1|        6|   1050|      13|      -5|    10|     38|   SLC| IAH|    1195|     CO|     1466|        0|\n",
      "|    1|  1|        6|   1748|      -5|      -7|     5|     15|   CLE| TPA|     927|     CO|     1523|        0|\n",
      "|    1|  1|        6|   1039|     -27|      -1|     6|     12|   EWR| IAH|    1400|     CO|      311|        0|\n",
      "|    1|  1|        6|   1740|     -15|      -5|     6|     13|   RSW| IAH|     861|     CO|     1763|        0|\n",
      "|    1|  1|        6|   1507|      62|      67|     3|     18|   MCO| CLE|     895|     CO|     1870|        0|\n",
      "|    1|  1|        6|   1610|      16|      25|     7|     19|   EWR| DEN|    1605|     CO|      228|        0|\n",
      "|    1|  1|        6|   1032|     -18|       7|     4|     10|   IAH| SEA|    1874|     CO|      595|        0|\n",
      "|    1|  1|        6|    948|     -10|       3|     4|     13|   SJU| EWR|    1608|     CO|     1942|        0|\n",
      "|    1|  1|        6|   1034|       2|       5|     3|     16|   IAH| SAN|    1303|     CO|      437|        0|\n",
      "|    1|  1|        6|   2118|      33|      38|     6|     14|   IAH| AUS|     140|     CO|     1265|        0|\n",
      "|    1|  1|        6|    850|     -12|     -10|     4|     15|   CLE| BWI|     314|     CO|      256|        0|\n",
      "+-----+---+---------+-------+--------+--------+------+-------+------+----+--------+-------+---------+---------+\n",
      "only showing top 20 rows\n",
      "\n"
     ]
    }
   ],
   "source": [
    "renamed = trimmedAirline.withColumnRenamed(\"DayOfMonth\", \"Day\")\n",
    "renamed.show()"
   ]
  },
  {
   "cell_type": "markdown",
   "metadata": {},
   "source": [
    "## Produce derived values"
   ]
  },
  {
   "cell_type": "code",
   "execution_count": 20,
   "metadata": {},
   "outputs": [
    {
     "name": "stdout",
     "output_type": "stream",
     "text": [
      "+-----+---+---------+-------+--------+--------+------+-------+------+----+--------+-------+---------+---------+------+\n",
      "|Month|Day|DayOfWeek|DepTime|ArrDelay|DepDelay|TaxiIn|TaxiOut|Origin|Dest|Distance|Carrier|FlightNum|Cancelled|Makeup|\n",
      "+-----+---+---------+-------+--------+--------+------+-------+------+----+--------+-------+---------+---------+------+\n",
      "|    1|  1|        6|   1206|       2|      -4|     7|     19|   IND| IAH|     845|     XE|     2867|        0|     6|\n",
      "|    1|  1|        6|    918|      -7|      -7|     4|     22|   CLE| MSY|     917|     XE|     2432|        0|     0|\n",
      "|    1|  1|        6|   1627|      -9|      -3|     5|     26|   IAH| CLT|     913|     XE|     2810|        0|    -6|\n",
      "|    1|  1|        6|    711|       5|      11|     5|     16|   ATL| IAH|     689|     XE|     2940|        0|    -6|\n",
      "|    1|  1|        6|   1600|     -13|      -5|     3|     15|   EWR| DAY|     533|     XE|     2450|        0|    -8|\n",
      "+-----+---+---------+-------+--------+--------+------+-------+------+----+--------+-------+---------+---------+------+\n",
      "only showing top 5 rows\n",
      "\n"
     ]
    }
   ],
   "source": [
    "# Add a simple column for \"How much time was 'made up in the air'\"\n",
    "makeupTime = renamed.withColumn(\"Makeup\", (renamed.ArrDelay - renamed.DepDelay).cast(\"integer\"))\n",
    "makeupTime.show(5)"
   ]
  },
  {
   "cell_type": "code",
   "execution_count": 21,
   "metadata": {},
   "outputs": [
    {
     "name": "stdout",
     "output_type": "stream",
     "text": [
      "+-----+---+---------+-------+--------+--------+------+-------+------+----+--------+-------+---------+---------+------+--------+\n",
      "|Month|Day|DayOfWeek|DepTime|ArrDelay|DepDelay|TaxiIn|TaxiOut|Origin|Dest|Distance|Carrier|FlightNum|Cancelled|Makeup|DayCount|\n",
      "+-----+---+---------+-------+--------+--------+------+-------+------+----+--------+-------+---------+---------+------+--------+\n",
      "|    1|  1|        6|   1600|     -13|      -5|     3|     15|   EWR| DAY|     533|     XE|     2450|        0|    -8|       0|\n",
      "|    1|  1|        6|   1627|      -9|      -3|     5|     26|   IAH| CLT|     913|     XE|     2810|        0|    -6|       0|\n",
      "|    1|  1|        6|    711|       5|      11|     5|     16|   ATL| IAH|     689|     XE|     2940|        0|    -6|       0|\n",
      "|    1|  1|        6|   1206|       2|      -4|     7|     19|   IND| IAH|     845|     XE|     2867|        0|     6|       0|\n",
      "|    1|  1|        6|    918|      -7|      -7|     4|     22|   CLE| MSY|     917|     XE|     2432|        0|     0|       0|\n",
      "+-----+---+---------+-------+--------+--------+------+-------+------+----+--------+-------+---------+---------+------+--------+\n",
      "only showing top 5 rows\n",
      "\n"
     ]
    }
   ],
   "source": [
    "# What if we want something thats more complicated than just simple arithmetic?\n",
    "# We can make a UDF - User Defined Function\n",
    "\n",
    "# Spark will execute the following function for each row. You can put arbitrary python\n",
    "# code here (with some restrictions)\n",
    "import datetime\n",
    "def dayOfYear(month, day):\n",
    "    \"\"\"\n",
    "    Given a month and day, return the day of year.\n",
    "        (e.g. Jan 1st is day \"0\")\n",
    "    \"\"\"\n",
    "    return datetime.date(2005,month,day).timetuple()[7] - 1\n",
    "\n",
    "from pyspark.sql.functions import udf\n",
    "from pyspark.sql.types import *\n",
    "dayUDF = udf(dayOfYear, IntegerType())\n",
    "\n",
    "withDay = makeupTime.withColumn(\"DayCount\", dayUDF(\"Month\", \"Day\"))\n",
    "withDay.show(5)"
   ]
  },
  {
   "cell_type": "code",
   "execution_count": 22,
   "metadata": {},
   "outputs": [
    {
     "name": "stdout",
     "output_type": "stream",
     "text": [
      "+-----+---+---------+-------+--------+--------+------+-------+------+----+--------+-------+---------+---------+------+---------------+\n",
      "|Month|Day|DayOfWeek|DepTime|ArrDelay|DepDelay|TaxiIn|TaxiOut|Origin|Dest|Distance|Carrier|FlightNum|Cancelled|Makeup|           udf2|\n",
      "+-----+---+---------+-------+--------+--------+------+-------+------+----+--------+-------+---------+---------+------+---------------+\n",
      "|    1|  1|        6|   1303|      66|      58|     8|     15|   ORD| MSP|     334|     UA|      547|        0|     8|[2005-01-01, 0]|\n",
      "|    1|  1|        6|    831|     -18|      -4|     7|     12|   MIA| ORD|    1197|     UA|      547|        0|   -14|[2005-01-01, 0]|\n",
      "|    1|  1|        6|   1704|       4|     -11|    13|     38|   BOS| ORD|     867|     UA|      543|        0|    15|[2005-01-01, 0]|\n",
      "|    1|  1|        6|   2342|     152|     147|     7|     20|   ORD| DAY|     240|     UA|      546|        0|     5|[2005-01-01, 0]|\n",
      "|    1|  1|        6|   1345|       9|      18|     3|     14|   SEA| SFO|     679|     UA|      551|        0|    -9|[2005-01-01, 0]|\n",
      "+-----+---+---------+-------+--------+--------+------+-------+------+----+--------+-------+---------+---------+------+---------------+\n",
      "only showing top 5 rows\n",
      "\n"
     ]
    }
   ],
   "source": [
    "# Suppose you wanted to correct Jet energies and make corresponding changes\n",
    "# to the MET of the event. It would be difficult and inefficient to run two UDFs.\n",
    "# Fortunately, we aren't limited to a single output column. We can pass back a\n",
    "# structure to spark, and it will expand each memeber into a column\n",
    "\n",
    "dateSchema = StructType([\n",
    "    StructField(\"Date\", DateType(), False),\n",
    "    StructField(\"Count\", IntegerType(), False),\n",
    "])\n",
    "\n",
    "def dateUDF(month, day):\n",
    "    \"\"\"\n",
    "    Given a month and day, return the day of year and the \n",
    "        (e.g. Jan 1st is day \"0\")\n",
    "    \"\"\"\n",
    "    dateObj = datetime.date(2005,month,day)\n",
    "    dayCount = dateObj.timetuple()[7] - 1\n",
    "    return (dateObj, dayCount)\n",
    "\n",
    "from pyspark.sql.functions import udf\n",
    "from pyspark.sql.types import IntegerType\n",
    "dayUDF = udf(dateUDF, dateSchema)\n",
    "\n",
    "withDayNested = makeupTime.withColumn(\"udf2\", dayUDF(\"Month\", \"Day\"))\n",
    "withDayNested.show(5)"
   ]
  },
  {
   "cell_type": "code",
   "execution_count": 23,
   "metadata": {},
   "outputs": [
    {
     "name": "stdout",
     "output_type": "stream",
     "text": [
      "+----------+-----+\n",
      "|      Date|Count|\n",
      "+----------+-----+\n",
      "|2005-01-01|    0|\n",
      "|2005-01-01|    0|\n",
      "|2005-01-01|    0|\n",
      "|2005-01-01|    0|\n",
      "|2005-01-01|    0|\n",
      "+----------+-----+\n",
      "only showing top 5 rows\n",
      "\n"
     ]
    }
   ],
   "source": [
    "withDayFlat = withDayNested.select(\"udf2.Date\", \"udf2.Count\")\n",
    "withDayFlat.show(5)"
   ]
  },
  {
   "cell_type": "code",
   "execution_count": 24,
   "metadata": {},
   "outputs": [
    {
     "name": "stdout",
     "output_type": "stream",
     "text": [
      "+-----+---+---------+-------+--------+--------+------+-------+------+----+--------+-------+---------+---------+------+----------+---------+\n",
      "|Month|Day|DayOfWeek|DepTime|ArrDelay|DepDelay|TaxiIn|TaxiOut|Origin|Dest|Distance|Carrier|FlightNum|Cancelled|Makeup|  FlatDate|FlatCount|\n",
      "+-----+---+---------+-------+--------+--------+------+-------+------+----+--------+-------+---------+---------+------+----------+---------+\n",
      "|    1|  1|        6|   1600|     -13|      -5|     3|     15|   EWR| DAY|     533|     XE|     2450|        0|    -8|2005-01-01|        0|\n",
      "|    1|  1|        6|   1627|      -9|      -3|     5|     26|   IAH| CLT|     913|     XE|     2810|        0|    -6|2005-01-01|        0|\n",
      "|    1|  1|        6|    711|       5|      11|     5|     16|   ATL| IAH|     689|     XE|     2940|        0|    -6|2005-01-01|        0|\n",
      "|    1|  1|        6|   1206|       2|      -4|     7|     19|   IND| IAH|     845|     XE|     2867|        0|     6|2005-01-01|        0|\n",
      "|    1|  1|        6|    918|      -7|      -7|     4|     22|   CLE| MSY|     917|     XE|     2432|        0|     0|2005-01-01|        0|\n",
      "+-----+---+---------+-------+--------+--------+------+-------+------+----+--------+-------+---------+---------+------+----------+---------+\n",
      "only showing top 5 rows\n",
      "\n"
     ]
    }
   ],
   "source": [
    "data = withDayNested \\\n",
    "                .withColumn(\"FlatDate\", withDayNested.udf2.Date) \\\n",
    "                .withColumn(\"FlatCount\", withDayNested.udf2.Count) \\\n",
    "                .drop(withDayNested.udf2)\n",
    "data.show(5)"
   ]
  },
  {
   "cell_type": "markdown",
   "metadata": {
    "slideshow": {
     "slide_type": "slide"
    }
   },
   "source": [
    "# Aggregate and Report\n",
    "Once we've loaded our data, done some filters and added some generated values, we'll want to aggregate the information so we can report values and/or make plots."
   ]
  },
  {
   "cell_type": "code",
   "execution_count": 25,
   "metadata": {
    "slideshow": {
     "slide_type": "slide"
    }
   },
   "outputs": [],
   "source": [
    "# How many flights are cancelled on each day of the week\n",
    "days = [\"Sun\", \"Mon\", \"Tue\", \"Wed\", \"Thu\", \"Fri\", \"Sat\"]\n",
    "cancelledPerDay = []\n",
    "for i in range(len(days)):\n",
    "    cancelledPerDay.append(data.where(\"DayOfWeek == %i and Cancelled == 1\" % (i + 1)).count())"
   ]
  },
  {
   "cell_type": "code",
   "execution_count": 27,
   "metadata": {},
   "outputs": [
    {
     "name": "stdout",
     "output_type": "stream",
     "text": [
      "Sun: 20277\n",
      "Mon: 20381\n",
      "Tue: 21698\n",
      "Wed: 19600\n",
      "Thu: 17352\n",
      "Fri: 17084\n",
      "Sat: 17338\n"
     ]
    }
   ],
   "source": [
    "for i in zip(days, cancelledPerDay):\n",
    "    print(\"%s: %i\" % i)"
   ]
  },
  {
   "cell_type": "markdown",
   "metadata": {
    "slideshow": {
     "slide_type": "slide"
    }
   },
   "source": [
    "### Load matplotlib and histogrammar\n",
    "For simple queries, a combination of `select` and `count` are sufficient, but more advanced queries need additional packages. Run the following snippet in the next cell to load Matplotlib and Histogrammar\n",
    "\n",
    "```python\n",
    "%matplotlib inline\n",
    "import matplotlib.pyplot as plt\n",
    "import histogrammar as hg\n",
    "import histogrammar.sparksql\n",
    "```"
   ]
  },
  {
   "cell_type": "code",
   "execution_count": 28,
   "metadata": {},
   "outputs": [],
   "source": [
    "%matplotlib inline\n",
    "import matplotlib.pyplot as plt\n",
    "import histogrammar as hg\n",
    "import histogrammar.sparksql"
   ]
  },
  {
   "cell_type": "markdown",
   "metadata": {
    "slideshow": {
     "slide_type": "slide"
    }
   },
   "source": [
    "### Decorate our DataFrame\n",
    "With Histogrammar loaded, we can make our DataFrame \"Histogrammar-aware\" by executing the following:\n",
    "    \n",
    "```python\n",
    "    hg.sparksql.addMethods(data)\n",
    "```\n",
    "\n",
    "As you can probably guess, `addMethods` adds some magic methods to allow our Dataframe to be processed by Histogrammar"
   ]
  },
  {
   "cell_type": "code",
   "execution_count": 29,
   "metadata": {},
   "outputs": [],
   "source": [
    "hg.sparksql.addMethods(data)"
   ]
  },
  {
   "cell_type": "markdown",
   "metadata": {
    "slideshow": {
     "slide_type": "slide"
    }
   },
   "source": [
    "### Plot a single variable\n",
    "At this point, we've got all the piece we need to actually extract some meaningful information from our dataset. Let's run the simplest-possible plotting in the next cell with:\n",
    "\n",
    "```python\n",
    "%%timeit -n3\n",
    "h1 = data.Bin(100, 0, 200, data['ArrDelay'])\n",
    "ax = h1.plot.matplotlib(name=\"Arrival Delay (min)\")\n",
    "```\n",
    "\n",
    "The `%%timeit` magic command will execute the cell 3 times and report the best iteration"
   ]
  },
  {
   "cell_type": "code",
   "execution_count": 30,
   "metadata": {},
   "outputs": [
    {
     "name": "stdout",
     "output_type": "stream",
     "text": [
      "5.66 s ± 169 ms per loop (mean ± std. dev. of 7 runs, 3 loops each)\n"
     ]
    },
    {
     "data": {
      "image/png": "[encoded data removed]",
      "text/plain": [
       "<Figure size 432x288 with 1 Axes>"
      ]
     },
     "metadata": {
      "needs_background": "light"
     },
     "output_type": "display_data"
    }
   ],
   "source": [
    "%%timeit -n3\n",
    "h1 = data.Bin(100, 0, 200, data['ArrDelay'])\n",
    "ax = h1.plot.matplotlib(name=\"Arrival Delay (min)\")"
   ]
  },
  {
   "cell_type": "markdown",
   "metadata": {
    "slideshow": {
     "slide_type": "slide"
    }
   },
   "source": [
    "### What just happened?\n",
    "When the previous cell was executed, Spark did the following using several distributed workers:\n",
    "1. Load the data from the CSV and divide into a number of `partitions`\n",
    "2. Perform each transformation on the partitions\n",
    "3. Histogrammar fills a histogram per-partition\n",
    "4. Histogrammar uses Spark to perform a distributed reduce/aggregation\n",
    "5. The resulting histogram is passed to Matplotlib to be plotted"
   ]
  },
  {
   "cell_type": "markdown",
   "metadata": {
    "slideshow": {
     "slide_type": "slide"
    }
   },
   "source": [
    "### Why is this useful?\n",
    "* Spark hides a lot of the complexity\n",
    "    * Splitting tasks\n",
    "    * Retrying failed jobs\n",
    "* Spark can optimize away unwanted computation\n",
    "* Spark can aggressively cache intermediate results\n",
    "* Distributed reduces are fast!"
   ]
  },
  {
   "cell_type": "markdown",
   "metadata": {
    "slideshow": {
     "slide_type": "slide"
    }
   },
   "source": [
    "# More examples\n",
    "Now that we've plotted a single variable, let's do some more complicated aggregations and plots.\n",
    "\n",
    "Let's make a histogram of the departure delay, following the template from before"
   ]
  },
  {
   "cell_type": "code",
   "execution_count": 31,
   "metadata": {},
   "outputs": [
    {
     "data": {
      "image/png": "[encoded data removed]",
      "text/plain": [
       "<Figure size 432x288 with 1 Axes>"
      ]
     },
     "metadata": {
      "needs_background": "light"
     },
     "output_type": "display_data"
    }
   ],
   "source": [
    "h2 = data.Bin(100, 0, 200, data['DepDelay'])\n",
    "ax = h2.plot.matplotlib(name=\"Departure Delay (min)\")"
   ]
  },
  {
   "cell_type": "markdown",
   "metadata": {
    "slideshow": {
     "slide_type": "slide"
    }
   },
   "source": [
    "What we've effectively done in the two previous cells is make two histograms (`h1` and `h2`), then filled them independently. In the background, Spark performed two separate aggregations. Histogrammar instead lets us combine the histograms together and perform a single aggregation."
   ]
  },
  {
   "cell_type": "code",
   "execution_count": 32,
   "metadata": {},
   "outputs": [],
   "source": [
    "# Note only the outer UntypedLabel connects to data. The\n",
    "# internal Bin objects connect to histogrammar. The outer\n",
    "# container will pass the elements in\n",
    "h3 = data.UntypedLabel(arrdelay=hg.Bin(100, 0, 200, data['ArrDelay']),\n",
    "                       depdelay=hg.Bin(100, 0, 200, data['DepDelay']),)"
   ]
  },
  {
   "cell_type": "code",
   "execution_count": 33,
   "metadata": {},
   "outputs": [
    {
     "data": {
      "image/png": "[encoded data removed]",
      "text/plain": [
       "<Figure size 432x288 with 1 Axes>"
      ]
     },
     "metadata": {
      "needs_background": "light"
     },
     "output_type": "display_data"
    }
   ],
   "source": [
    "dd = h3.get('depdelay').plot.matplotlib(name=\"Departure Delay (min)\")"
   ]
  },
  {
   "cell_type": "code",
   "execution_count": 34,
   "metadata": {},
   "outputs": [
    {
     "data": {
      "image/png": "[encoded data removed]",
      "text/plain": [
       "<Figure size 432x288 with 1 Axes>"
      ]
     },
     "metadata": {
      "needs_background": "light"
     },
     "output_type": "display_data"
    }
   ],
   "source": [
    "ad = h3.get('arrdelay').plot.matplotlib(name=\"Arrival Delay (min)\")"
   ]
  },
  {
   "cell_type": "markdown",
   "metadata": {},
   "source": [
    "## Multiple plots\n",
    "It can be helpful to show multiple plots in a single cell"
   ]
  },
  {
   "cell_type": "code",
   "execution_count": 35,
   "metadata": {},
   "outputs": [
    {
     "data": {
      "image/png": "[encoded data removed]",
      "text/plain": [
       "<Figure size 432x288 with 2 Axes>"
      ]
     },
     "metadata": {
      "needs_background": "light"
     },
     "output_type": "display_data"
    }
   ],
   "source": [
    "plt.subplot(1, 2, 1)\n",
    "dd = h3.get('depdelay').plot.matplotlib(name=\"Departure Delay (min)\")\n",
    "plt.subplot(1, 2, 2)\n",
    "ad = h3.get('arrdelay').plot.matplotlib(name=\"Arrival Delay (min)\")"
   ]
  },
  {
   "cell_type": "markdown",
   "metadata": {
    "slideshow": {
     "slide_type": "slide"
    }
   },
   "source": [
    "## 2D histograms\n",
    "Implicit in the `Bin()` definition we've seen so far is the value we want to fill. By default, the value is filled by `Count()`, which effectively adds a one into the appropriate bin.\n",
    "```python\n",
    "h4 = data.Bin(100, 0, 200, data['DepDelay'], value=hg.Count())\n",
    "```\n",
    "We can make a 2D histogram by replacing `Count()` with a 1D histogram\n",
    "```python\n",
    "h4 = data.Bin(100, 0, 200, data['DepDelay'],\n",
    "              value=hg.Bin(100, 0, 200, data['ArrDelay']))\n",
    "```"
   ]
  },
  {
   "cell_type": "markdown",
   "metadata": {
    "slideshow": {
     "slide_type": "slide"
    }
   },
   "source": [
    "## Selecting a subset of events\n",
    "The `Select()` function lets us extract a subset of events\n",
    "```python\n",
    "h5 = data.UntypedLabel(\n",
    "        ua=hg.Select(data['Carrier'] == \"UA\", \n",
    "                         hg.Bin(100, 0, 200, data['ArrDelay'])),\n",
    "        aa=hg.Select(data['Carrier'] == \"AA\", \n",
    "                         hg.Bin(100, 0, 200, data['ArrDelay']))\n",
    "    )\n",
    "```"
   ]
  },
  {
   "cell_type": "code",
   "execution_count": 36,
   "metadata": {},
   "outputs": [],
   "source": [
    "h5 = data.UntypedLabel(\n",
    "        ua=hg.Select(data['Carrier'] == \"UA\", \n",
    "                         hg.Bin(100, 0, 200, data['ArrDelay'])),\n",
    "        aa=hg.Select(data['Carrier'] == \"AA\", \n",
    "                         hg.Bin(100, 0, 200, data['ArrDelay']))\n",
    "    )"
   ]
  },
  {
   "cell_type": "markdown",
   "metadata": {},
   "source": [
    "## Plotting two histograms simultaneously\n",
    "```python\n",
    "plt.xlabel('Minutes Delayed')\n",
    "h5.get('ua').plot.matplotlib(alpha=0.4, label='United')\n",
    "h5.get('aa').plot.matplotlib(alpha=0.4, label='American')\n",
    "plt.legend(loc='upper right')\n",
    "plt.title('Delays by airline')\n",
    "```"
   ]
  },
  {
   "cell_type": "code",
   "execution_count": 37,
   "metadata": {},
   "outputs": [
    {
     "data": {
      "text/plain": [
       "Text(0.5, 1.0, 'Delays by airline')"
      ]
     },
     "execution_count": 37,
     "metadata": {},
     "output_type": "execute_result"
    },
    {
     "data": {
      "image/png": "[encoded data removed]",
      "text/plain": [
       "<Figure size 432x288 with 1 Axes>"
      ]
     },
     "metadata": {
      "needs_background": "light"
     },
     "output_type": "display_data"
    }
   ],
   "source": [
    "plt.xlabel('Minutes Delayed')\n",
    "h5.get('ua').plot.matplotlib(alpha=0.4, label='United')\n",
    "h5.get('aa').plot.matplotlib(alpha=0.4, label='American')\n",
    "plt.legend(loc='upper right')\n",
    "plt.title('Delays by airline')"
   ]
  },
  {
   "cell_type": "markdown",
   "metadata": {
    "slideshow": {
     "slide_type": "slide"
    }
   },
   "source": [
    "## Other aggregation operators\n",
    "Histogrammar provides a [number](http://histogrammar.org/python/1.0.9/) of additional aggregation operators. For instance, we can get the average arrival delay like the following.\n",
    "```python\n",
    "h6 = data.UntypedLabel(\n",
    "        ua=hg.Select(data['Carrier'] == \"UA\", \n",
    "                         hg.Average(data['ArrDelay'])),\n",
    "        aa=hg.Select(data['Carrier'] == \"AA\", \n",
    "                         hg.Average(data['ArrDelay']))\n",
    "    )\n",
    "print h6.get('ua').cut.mean\n",
    "```                               "
   ]
  },
  {
   "cell_type": "code",
   "execution_count": 39,
   "metadata": {},
   "outputs": [
    {
     "name": "stdout",
     "output_type": "stream",
     "text": [
      "7.4487382644808395\n"
     ]
    }
   ],
   "source": [
    "h6 = data.UntypedLabel(\n",
    "        ua=hg.Select(data['Carrier'] == \"UA\", \n",
    "                         hg.Average(data['ArrDelay'])),\n",
    "        aa=hg.Select(data['Carrier'] == \"AA\", \n",
    "                         hg.Average(data['ArrDelay']))\n",
    "    )\n",
    "print(h6.get('ua').cut.mean)"
   ]
  },
  {
   "cell_type": "markdown",
   "metadata": {
    "slideshow": {
     "slide_type": "slide"
    }
   },
   "source": [
    "# Your turn!\n",
    "Before we move to a CMS dataset, use what you've learned so far to count the number of cancelled flights for each month. Do you notice anything odd?"
   ]
  },
  {
   "cell_type": "markdown",
   "metadata": {
    "slideshow": {
     "slide_type": "slide"
    }
   },
   "source": [
    "# Other ideas\n",
    "If you've got extra time, answer the following:\n",
    "1. What are the 10 most popular routes?\n",
    "2. What airports are the most delayed outbound? Inbound?\n",
    "3. Show the trend of \"mins made up\" vs. distance.\n",
    "4. What airline has the lowest average delay?"
   ]
  },
  {
   "cell_type": "markdown",
   "metadata": {
    "slideshow": {
     "slide_type": "slide"
    }
   },
   "source": [
    "# Summary\n",
    "We looked all US flights in 2005 and studied their on-time arrival statistics. We used Spark, Histogrammar, and Matplotlib to:\n",
    "1. Import datasets from disk\n",
    "2. Apply transformations\n",
    "  * Perform cuts\n",
    "  * Produce derived values\n",
    "3. Aggregate and report to produce tables/plots\n",
    "\n",
    "Next, we'll apply these lessons to CMS data."
   ]
  },
  {
   "cell_type": "markdown",
   "metadata": {
    "slideshow": {
     "slide_type": "slide"
    }
   },
   "source": [
    "# Don't forget to clean up!\n",
    "Once you've completed this section and you're satisfied with the results, select \"File->Close and Halt\" from the Jupyter window. Spark is memory intensive, so it's good to remember to close the notebook when you're done. (Closing the notebook terminates the Spark process)."
   ]
  }
 ],
 "metadata": {
  "celltoolbar": "Slideshow",
  "kernelspec": {
   "display_name": "hats-spark36",
   "language": "python",
   "name": "hats-spark36"
  },
  "language_info": {
   "codemirror_mode": {
    "name": "ipython",
    "version": 3
   },
   "file_extension": ".py",
   "mimetype": "text/x-python",
   "name": "python",
   "nbconvert_exporter": "python",
   "pygments_lexer": "ipython3",
   "version": "3.6.7"
  }
 },
 "nbformat": 4,
 "nbformat_minor": 2
}
